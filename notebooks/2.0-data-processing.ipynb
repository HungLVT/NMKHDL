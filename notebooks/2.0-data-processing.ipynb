{
 "cells": [
  {
   "cell_type": "code",
   "execution_count": 1,
   "metadata": {},
   "outputs": [],
   "source": [
    "#import thư viện cần thiết\n",
    "import pandas as pd\n",
    "import numpy as np\n"
   ]
  },
  {
   "cell_type": "code",
   "execution_count": 2,
   "metadata": {},
   "outputs": [
    {
     "name": "stdout",
     "output_type": "stream",
     "text": [
      "                                            Liên kết  \\\n",
      "0  https://vieclam24h.vn/bat-dong-san/chuyen-vien...   \n",
      "\n",
      "                                  Tên công ty       Tên công việc  \\\n",
      "0  Công Ty Cổ Phần Đô Thị Thông Minh Việt Nam  Chuyên Viên Tư Vấn   \n",
      "\n",
      "        Mức lương Khu vực tuyển                 Cấp bậc  Số lượng tuyển  \\\n",
      "0  50 - 300 triệu       Đà Nẵng  Chuyên viên- nhân viên              10   \n",
      "\n",
      "       Hình thức làm việc Yêu cầu bằng cấp  Yêu cầu kinh nghiệm  \\\n",
      "0  Toàn thời gian cố định              NaN  Chưa có kinh nghiệm   \n",
      "\n",
      "                                          Ngành nghề  \\\n",
      "0  Bất động sản/Bán hàng - Kinh doanh/Hành chính ...   \n",
      "\n",
      "                       Địa điểm làm việc  \\\n",
      "0  Đà Nẵng, 386 Điện Biên Phủ, Thanh Khê   \n",
      "\n",
      "                                     Mô tả công việc  \\\n",
      "0  · Liên hệ tư vấn các sản phẩm Bất động sản mà ...   \n",
      "\n",
      "                                   Yêu cầu công việc  \\\n",
      "0  · Nam/Nữ Từ 22 – 35 tuổi, có đam mê và nhiệt h...   \n",
      "\n",
      "                                           Quyền lợi  \\\n",
      "0  · Lương cơ bản: 7.100.000 – 9.000.000đ/tháng +...   \n",
      "\n",
      "                                             Từ khóa  \\\n",
      "0  Việc làm Đà NẵngBất động sảnCông Ty Cổ Phần Đô...   \n",
      "\n",
      "                                     Địa chỉ công ty  Quy mô công ty  \n",
      "0  386 Điện Biên Phủ, Phường Thanh Khê Đông, Quận...  Trên 300 người  \n"
     ]
    }
   ],
   "source": [
    "#đọc file csv\n",
    "raw_df = pd.read_csv('../data/raw_dataset.csv')\n",
    "print(raw_df.head(1))"
   ]
  },
  {
   "cell_type": "code",
   "execution_count": 3,
   "metadata": {},
   "outputs": [
    {
     "name": "stdout",
     "output_type": "stream",
     "text": [
      "<class 'pandas.core.frame.DataFrame'>\n",
      "RangeIndex: 1207 entries, 0 to 1206\n",
      "Data columns (total 18 columns):\n",
      " #   Column               Non-Null Count  Dtype \n",
      "---  ------               --------------  ----- \n",
      " 0   Liên kết             1207 non-null   object\n",
      " 1   Tên công ty          1207 non-null   object\n",
      " 2   Tên công việc        1207 non-null   object\n",
      " 3   Mức lương            1207 non-null   object\n",
      " 4   Khu vực tuyển        1207 non-null   object\n",
      " 5   Cấp bậc              1207 non-null   object\n",
      " 6   Số lượng tuyển       1207 non-null   int64 \n",
      " 7   Hình thức làm việc   1207 non-null   object\n",
      " 8   Yêu cầu bằng cấp     1095 non-null   object\n",
      " 9   Yêu cầu kinh nghiệm  1207 non-null   object\n",
      " 10  Ngành nghề           1207 non-null   object\n",
      " 11  Địa điểm làm việc    1207 non-null   object\n",
      " 12  Mô tả công việc      1207 non-null   object\n",
      " 13  Yêu cầu công việc    1207 non-null   object\n",
      " 14  Quyền lợi            1207 non-null   object\n",
      " 15  Từ khóa              1207 non-null   object\n",
      " 16  Địa chỉ công ty      1207 non-null   object\n",
      " 17  Quy mô công ty       1207 non-null   object\n",
      "dtypes: int64(1), object(17)\n",
      "memory usage: 169.9+ KB\n",
      "None\n"
     ]
    }
   ],
   "source": [
    "#Xem thông tin của dữ liệu\n",
    "print(raw_df.info())"
   ]
  }
 ],
 "metadata": {
  "kernelspec": {
   "display_name": "base",
   "language": "python",
   "name": "python3"
  },
  "language_info": {
   "codemirror_mode": {
    "name": "ipython",
    "version": 3
   },
   "file_extension": ".py",
   "mimetype": "text/x-python",
   "name": "python",
   "nbconvert_exporter": "python",
   "pygments_lexer": "ipython3",
   "version": "3.11.4"
  }
 },
 "nbformat": 4,
 "nbformat_minor": 2
}
