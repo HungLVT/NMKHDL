{
 "cells": [
  {
   "cell_type": "code",
   "execution_count": 1,
   "metadata": {},
   "outputs": [],
   "source": [
    "# import nhưng thư viện cần thiết\n",
    "import pandas as pd \n",
    "import numpy as np\n",
    "from requests_html import HTML\n",
    "from requests_html import HTMLSession\n",
    "from bs4 import BeautifulSoup\n",
    "import requests\n",
    "import time\n",
    "import selenium\n",
    "from selenium import webdriver\n",
    "from selenium.webdriver.common.keys import Keys"
   ]
  },
  {
   "cell_type": "markdown",
   "metadata": {},
   "source": [
    "# Lấy liến kết công việc"
   ]
  },
  {
   "cell_type": "code",
   "execution_count": 9,
   "metadata": {},
   "outputs": [
    {
     "name": "stdout",
     "output_type": "stream",
     "text": [
      "https://www.vieclamtot.com/viec-lam?page=2\n",
      "<Response [403]>\n"
     ]
    }
   ],
   "source": [
    "# Lấy 1000 trang công việc từ chợ tốt\n",
    "\n",
    "job_links = []\n",
    "\n",
    "\n",
    "BASE_URL = 'https://vieclam24h.vn'\n",
    "\n",
    "\n",
    "headers = {\n",
    "   'User-Agent': 'Mozilla/5.0 (Windows NT 10.0; Win64; x64) AppleWebKit/537.36 (KHTML, like Gecko) Chrome/114.0.0.0 Safari/537.36'\n",
    "}\n",
    "\n",
    "# range(1, 1000)\n",
    "for i in range(2, 3):\n",
    "    url = BASE_URL + '/viec-lam?page=' + str(i)\n",
    "    \n",
    "    \n",
    "    print(url)\n",
    "    \n",
    "    session = HTMLSession()\n",
    "    response = session.get(url, headers= headers)\n",
    "    \n",
    "    \n",
    "    if (response.status_code == 200):\n",
    "        print(\"Nhân được phản hồi từ trang web với page = {}\".format(i))\n",
    "        \n",
    "        soup = BeautifulSoup(response.text, 'html.parser')\n",
    "        job_container = soup.find('div', class_='grid grid-cols-1 gap-y-2 lg:gap-y-2.5')\n",
    "        # Lưu job_container vào file data.txt\n",
    "        \n",
    "        \n",
    "        print(job_container)\n",
    "        \n",
    "        \n",
    "        if job_container:\n",
    "            # Tìm tất cả các link trong job_container với thẻ href\n",
    "            job_links_in_page = job_container.find_all('a', href=True)\n",
    "            print(str(len(job_links_in_page)) + ' công việc được tìm thấy')\n",
    "            # Thêm các liên kết công việc vào danh sách job_links\n",
    "            for link in job_links_in_page:\n",
    "                job_links.append(BASE_URL + link['href'])  \n",
    "              \n"
   ]
  },
  {
   "cell_type": "markdown",
   "metadata": {},
   "source": [
    "# Thu thập dữ liệu của từng trang web\n",
    "- Sau khi thu thập được các link trang web, ta tiến hành thu thập dữ liệu của từng trang web bằng cách sử dụng cách tương tự"
   ]
  },
  {
   "cell_type": "code",
   "execution_count": 14,
   "metadata": {},
   "outputs": [
    {
     "data": {
      "text/html": [
       "<div>\n",
       "<style scoped>\n",
       "    .dataframe tbody tr th:only-of-type {\n",
       "        vertical-align: middle;\n",
       "    }\n",
       "\n",
       "    .dataframe tbody tr th {\n",
       "        vertical-align: top;\n",
       "    }\n",
       "\n",
       "    .dataframe thead th {\n",
       "        text-align: right;\n",
       "    }\n",
       "</style>\n",
       "<table border=\"1\" class=\"dataframe\">\n",
       "  <thead>\n",
       "    <tr style=\"text-align: right;\">\n",
       "      <th></th>\n",
       "      <th>Liên kết công việc</th>\n",
       "    </tr>\n",
       "  </thead>\n",
       "  <tbody>\n",
       "    <tr>\n",
       "      <th>72</th>\n",
       "      <td>https://www.vieclamtot.com/viec-lam-huyen-chon...</td>\n",
       "    </tr>\n",
       "    <tr>\n",
       "      <th>29</th>\n",
       "      <td>https://www.vieclamtot.com/viec-lam-quan-7-tp-...</td>\n",
       "    </tr>\n",
       "    <tr>\n",
       "      <th>54</th>\n",
       "      <td>https://www.vieclamtot.com/viec-lam-quan-11-tp...</td>\n",
       "    </tr>\n",
       "    <tr>\n",
       "      <th>84</th>\n",
       "      <td>https://www.vieclamtot.com/viec-lam-quan-thanh...</td>\n",
       "    </tr>\n",
       "    <tr>\n",
       "      <th>11</th>\n",
       "      <td>https://www.vieclamtot.com/viec-lam-thanh-pho-...</td>\n",
       "    </tr>\n",
       "  </tbody>\n",
       "</table>\n",
       "</div>"
      ],
      "text/plain": [
       "                                   Liên kết công việc\n",
       "72  https://www.vieclamtot.com/viec-lam-huyen-chon...\n",
       "29  https://www.vieclamtot.com/viec-lam-quan-7-tp-...\n",
       "54  https://www.vieclamtot.com/viec-lam-quan-11-tp...\n",
       "84  https://www.vieclamtot.com/viec-lam-quan-thanh...\n",
       "11  https://www.vieclamtot.com/viec-lam-thanh-pho-..."
      ]
     },
     "execution_count": 14,
     "metadata": {},
     "output_type": "execute_result"
    }
   ],
   "source": [
    "# Đọc dữ liệu từ file job_links.csv\n",
    "df = pd.read_csv('../data/job_links.csv')\n",
    "df.sample(5)"
   ]
  },
  {
   "cell_type": "code",
   "execution_count": 9,
   "metadata": {},
   "outputs": [
    {
     "name": "stdout",
     "output_type": "stream",
     "text": [
      "None\n"
     ]
    }
   ],
   "source": [
    "def parser_info(job_link):\n",
    "    session = HTMLSession()\n",
    "    response = session.get(job_link)\n",
    "    soup = BeautifulSoup(response.text, 'html.parser')\n",
    "    job_info = soup.find('div', class_='col-md-8')\n",
    "    \n",
    "    if job_info:\n",
    "        job_title = job_info.find('h1', class_='AdDecription_adTitle__AG9r4')\n",
    "        job_title = job_title.get_text() if job_title else None\n",
    "        print(job_title)\n",
    "\n",
    "        job_salary = job_info.find('div', class_=\"AdDecription_adPrice__MQzGw\", itemprop=\"price\")\n",
    "        job_salary = job_salary.get_text() if job_salary else None\n",
    "        print(job_salary)\n",
    "\n",
    "        job_company = job_info.find('div', class_='RecruiterInformation_companyName__mciU7')\n",
    "        print(job_company)\n",
    "        # job_company = job_company.get_text() if job_company else None\n",
    "        # print(job_company)\n",
    "\n",
    "        job_workplace = job_info.find('div', class_='RecruiterInformation_companyAddress__T9Opq')\n",
    "        job_workplace = job_workplace.get_text() if job_workplace else None\n",
    "        # print(job_workplace)\n",
    "\n",
    "\n",
    "        job_info_dict = {\n",
    "            'Tiêu đề công việc': job_title,\n",
    "            'Tên công ty': job_company,\n",
    "            'Mức lương': job_salary,\n",
    "            'Nơi làm việc': job_workplace,\n",
    "        }\n",
    "\n",
    "        return job_info_dict\n",
    "    return None\n",
    "\n",
    "print(parser_info('https://www.vieclamtot.com/viec-lam-huyen-thuy-nguyen-hai-phong/112250454.htm'))"
   ]
  }
 ],
 "metadata": {
  "kernelspec": {
   "display_name": "Python 3",
   "language": "python",
   "name": "python3"
  },
  "language_info": {
   "codemirror_mode": {
    "name": "ipython",
    "version": 3
   },
   "file_extension": ".py",
   "mimetype": "text/x-python",
   "name": "python",
   "nbconvert_exporter": "python",
   "pygments_lexer": "ipython3",
   "version": "3.9.18"
  }
 },
 "nbformat": 4,
 "nbformat_minor": 2
}
